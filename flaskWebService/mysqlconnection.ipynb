{
 "cells": [
  {
   "cell_type": "code",
   "execution_count": 1,
   "metadata": {
    "collapsed": true
   },
   "outputs": [
    {
     "name": "stdout",
     "output_type": "stream",
     "text": [
      "<mysql.connector.connection_cext.CMySQLConnection object at 0x0000025FBC914310>\n"
     ]
    }
   ],
   "source": [
    "import mysql.connector\n",
    "\n",
    "mydb = mysql.connector.connect(\n",
    "  host=\"localhost\",\n",
    "  user=\"dbuser\",\n",
    "  password=\"dbpassword\",\n",
    "  database=\"spaces\"\n",
    "\n",
    ")\n",
    "\n",
    "print(mydb)"
   ]
  },
  {
   "cell_type": "code",
   "execution_count": 7,
   "outputs": [
    {
     "name": "stdout",
     "output_type": "stream",
     "text": [
      "1 record inserted.\n"
     ]
    }
   ],
   "source": [
    "mycursor = mydb.cursor()\n",
    "sql = \"INSERT INTO arduinodata (temp, hum, date) VALUES (%s, %s, %s)\"\n",
    "val = (0,0,\"ss\")\n",
    "mycursor.execute(sql, val)\n",
    "mydb.commit()\n",
    "print(mycursor.rowcount, \"record inserted.\")"
   ],
   "metadata": {
    "collapsed": false,
    "pycharm": {
     "name": "#%%\n"
    }
   }
  },
  {
   "cell_type": "code",
   "execution_count": 8,
   "outputs": [
    {
     "name": "stdout",
     "output_type": "stream",
     "text": [
      "<Response [404]>\n"
     ]
    }
   ],
   "source": [
    "import requests\n",
    "\n",
    "r  = requests.get(\"http://192.168.1.108:5000/fill:date=00:55:22,temp=24,hum=26\")\n",
    "#rr = requests.get(\"http://127.0.0.1:5000/fill:date=00:55:26,temp=24,hum=26\")\n",
    "print(r)"
   ],
   "metadata": {
    "collapsed": false,
    "pycharm": {
     "name": "#%%\n"
    }
   }
  },
  {
   "cell_type": "code",
   "execution_count": 17,
   "outputs": [
    {
     "data": {
      "text/plain": "'Riccibus'"
     },
     "execution_count": 17,
     "metadata": {},
     "output_type": "execute_result"
    }
   ],
   "source": [
    "from mysecrets import mySecrets\n",
    "\n",
    "ss = mySecrets()\n",
    "ss.ssid1"
   ],
   "metadata": {
    "collapsed": false,
    "pycharm": {
     "name": "#%%\n"
    }
   }
  },
  {
   "cell_type": "markdown",
   "source": [
    "## Datavisualisation"
   ],
   "metadata": {
    "collapsed": false,
    "pycharm": {
     "name": "#%% md\n"
    }
   }
  },
  {
   "cell_type": "code",
   "execution_count": 24,
   "outputs": [],
   "source": [
    "import pandas as pd\n",
    "df = pd.read_csv(\"data.txt\",delimiter=\",\")"
   ],
   "metadata": {
    "collapsed": false,
    "pycharm": {
     "name": "#%%\n"
    }
   }
  },
  {
   "cell_type": "code",
   "execution_count": 25,
   "outputs": [
    {
     "data": {
      "text/plain": "    temp  hum      date\n0      0    0        ss\n1      0    0        ss\n2      0    0        ss\n3      0    0        ss\n4      0    0        ss\n5      0    0        ss\n6      0    0        ss\n7      0    0        ss\n8      0    0        ss\n9      0    0        ss\n10     0    0        ss\n11     0    0        ss\n12     0    0        ss\n13     0    0        ss\n14     0    0        ss\n15     0    0        ss\n16     0    0        ss\n17     0    0        ss\n18     0    0        ss\n19     0    0        ss\n20     0    0        ss\n21     0    0        ss\n22     0    0        ss\n23     0    0        ss\n24     0    0        ss\n25     0    0        ss\n26     0    0  00:55:22\n27     0    0  00:55:22\n28    24   26  00:55:22\n29     0    0        ss\n30    24   26  00:55:26\n31    24   26  00:55:26\n32    24   26  00:55:26\n33    24   26  00:55:22\n34    24   26  00:55:22\n35    24   26  00:55:26\n36    24   26  00:55:26\n37    24   26  00:55:26\n38    25   25  00:55:55\n39    25   25  00:55:55\n40    25   25  00:55:55\n41    25   25  00:55:55\n42    21   21   0:55:55\n43    21   21   0:55:55",
      "text/html": "<div>\n<style scoped>\n    .dataframe tbody tr th:only-of-type {\n        vertical-align: middle;\n    }\n\n    .dataframe tbody tr th {\n        vertical-align: top;\n    }\n\n    .dataframe thead th {\n        text-align: right;\n    }\n</style>\n<table border=\"1\" class=\"dataframe\">\n  <thead>\n    <tr style=\"text-align: right;\">\n      <th></th>\n      <th>temp</th>\n      <th>hum</th>\n      <th>date</th>\n    </tr>\n  </thead>\n  <tbody>\n    <tr>\n      <th>0</th>\n      <td>0</td>\n      <td>0</td>\n      <td>ss</td>\n    </tr>\n    <tr>\n      <th>1</th>\n      <td>0</td>\n      <td>0</td>\n      <td>ss</td>\n    </tr>\n    <tr>\n      <th>2</th>\n      <td>0</td>\n      <td>0</td>\n      <td>ss</td>\n    </tr>\n    <tr>\n      <th>3</th>\n      <td>0</td>\n      <td>0</td>\n      <td>ss</td>\n    </tr>\n    <tr>\n      <th>4</th>\n      <td>0</td>\n      <td>0</td>\n      <td>ss</td>\n    </tr>\n    <tr>\n      <th>5</th>\n      <td>0</td>\n      <td>0</td>\n      <td>ss</td>\n    </tr>\n    <tr>\n      <th>6</th>\n      <td>0</td>\n      <td>0</td>\n      <td>ss</td>\n    </tr>\n    <tr>\n      <th>7</th>\n      <td>0</td>\n      <td>0</td>\n      <td>ss</td>\n    </tr>\n    <tr>\n      <th>8</th>\n      <td>0</td>\n      <td>0</td>\n      <td>ss</td>\n    </tr>\n    <tr>\n      <th>9</th>\n      <td>0</td>\n      <td>0</td>\n      <td>ss</td>\n    </tr>\n    <tr>\n      <th>10</th>\n      <td>0</td>\n      <td>0</td>\n      <td>ss</td>\n    </tr>\n    <tr>\n      <th>11</th>\n      <td>0</td>\n      <td>0</td>\n      <td>ss</td>\n    </tr>\n    <tr>\n      <th>12</th>\n      <td>0</td>\n      <td>0</td>\n      <td>ss</td>\n    </tr>\n    <tr>\n      <th>13</th>\n      <td>0</td>\n      <td>0</td>\n      <td>ss</td>\n    </tr>\n    <tr>\n      <th>14</th>\n      <td>0</td>\n      <td>0</td>\n      <td>ss</td>\n    </tr>\n    <tr>\n      <th>15</th>\n      <td>0</td>\n      <td>0</td>\n      <td>ss</td>\n    </tr>\n    <tr>\n      <th>16</th>\n      <td>0</td>\n      <td>0</td>\n      <td>ss</td>\n    </tr>\n    <tr>\n      <th>17</th>\n      <td>0</td>\n      <td>0</td>\n      <td>ss</td>\n    </tr>\n    <tr>\n      <th>18</th>\n      <td>0</td>\n      <td>0</td>\n      <td>ss</td>\n    </tr>\n    <tr>\n      <th>19</th>\n      <td>0</td>\n      <td>0</td>\n      <td>ss</td>\n    </tr>\n    <tr>\n      <th>20</th>\n      <td>0</td>\n      <td>0</td>\n      <td>ss</td>\n    </tr>\n    <tr>\n      <th>21</th>\n      <td>0</td>\n      <td>0</td>\n      <td>ss</td>\n    </tr>\n    <tr>\n      <th>22</th>\n      <td>0</td>\n      <td>0</td>\n      <td>ss</td>\n    </tr>\n    <tr>\n      <th>23</th>\n      <td>0</td>\n      <td>0</td>\n      <td>ss</td>\n    </tr>\n    <tr>\n      <th>24</th>\n      <td>0</td>\n      <td>0</td>\n      <td>ss</td>\n    </tr>\n    <tr>\n      <th>25</th>\n      <td>0</td>\n      <td>0</td>\n      <td>ss</td>\n    </tr>\n    <tr>\n      <th>26</th>\n      <td>0</td>\n      <td>0</td>\n      <td>00:55:22</td>\n    </tr>\n    <tr>\n      <th>27</th>\n      <td>0</td>\n      <td>0</td>\n      <td>00:55:22</td>\n    </tr>\n    <tr>\n      <th>28</th>\n      <td>24</td>\n      <td>26</td>\n      <td>00:55:22</td>\n    </tr>\n    <tr>\n      <th>29</th>\n      <td>0</td>\n      <td>0</td>\n      <td>ss</td>\n    </tr>\n    <tr>\n      <th>30</th>\n      <td>24</td>\n      <td>26</td>\n      <td>00:55:26</td>\n    </tr>\n    <tr>\n      <th>31</th>\n      <td>24</td>\n      <td>26</td>\n      <td>00:55:26</td>\n    </tr>\n    <tr>\n      <th>32</th>\n      <td>24</td>\n      <td>26</td>\n      <td>00:55:26</td>\n    </tr>\n    <tr>\n      <th>33</th>\n      <td>24</td>\n      <td>26</td>\n      <td>00:55:22</td>\n    </tr>\n    <tr>\n      <th>34</th>\n      <td>24</td>\n      <td>26</td>\n      <td>00:55:22</td>\n    </tr>\n    <tr>\n      <th>35</th>\n      <td>24</td>\n      <td>26</td>\n      <td>00:55:26</td>\n    </tr>\n    <tr>\n      <th>36</th>\n      <td>24</td>\n      <td>26</td>\n      <td>00:55:26</td>\n    </tr>\n    <tr>\n      <th>37</th>\n      <td>24</td>\n      <td>26</td>\n      <td>00:55:26</td>\n    </tr>\n    <tr>\n      <th>38</th>\n      <td>25</td>\n      <td>25</td>\n      <td>00:55:55</td>\n    </tr>\n    <tr>\n      <th>39</th>\n      <td>25</td>\n      <td>25</td>\n      <td>00:55:55</td>\n    </tr>\n    <tr>\n      <th>40</th>\n      <td>25</td>\n      <td>25</td>\n      <td>00:55:55</td>\n    </tr>\n    <tr>\n      <th>41</th>\n      <td>25</td>\n      <td>25</td>\n      <td>00:55:55</td>\n    </tr>\n    <tr>\n      <th>42</th>\n      <td>21</td>\n      <td>21</td>\n      <td>0:55:55</td>\n    </tr>\n    <tr>\n      <th>43</th>\n      <td>21</td>\n      <td>21</td>\n      <td>0:55:55</td>\n    </tr>\n  </tbody>\n</table>\n</div>"
     },
     "execution_count": 25,
     "metadata": {},
     "output_type": "execute_result"
    }
   ],
   "source": [
    "df"
   ],
   "metadata": {
    "collapsed": false,
    "pycharm": {
     "name": "#%%\n"
    }
   }
  },
  {
   "cell_type": "code",
   "execution_count": null,
   "outputs": [],
   "source": [
    "import mysql.connector as connection\n",
    "import pandas as pd\n",
    "try:\n",
    "    mydb = connection.connect(host=\"localhost\", database = 'Spaces',user=\"dbuser\", passwd=\"dbpassword\",use_pure=True)\n",
    "    query = \"Select * from arduinodata;\"\n",
    "    result_dataFrame = pd.read_sql(query,mydb)\n",
    "    mydb.close() #close the connection\n",
    "except Exception as e:\n",
    "    mydb.close()\n",
    "    print(str(e))"
   ],
   "metadata": {
    "collapsed": false,
    "pycharm": {
     "name": "#%%\n"
    }
   }
  }
 ],
 "metadata": {
  "kernelspec": {
   "display_name": "Python 3",
   "language": "python",
   "name": "python3"
  },
  "language_info": {
   "codemirror_mode": {
    "name": "ipython",
    "version": 2
   },
   "file_extension": ".py",
   "mimetype": "text/x-python",
   "name": "python",
   "nbconvert_exporter": "python",
   "pygments_lexer": "ipython2",
   "version": "2.7.6"
  }
 },
 "nbformat": 4,
 "nbformat_minor": 0
}